{
  "nbformat": 4,
  "nbformat_minor": 0,
  "metadata": {
    "colab": {
      "provenance": []
    },
    "kernelspec": {
      "name": "python3",
      "display_name": "Python 3"
    },
    "language_info": {
      "name": "python"
    }
  },
  "cells": [
    {
      "cell_type": "markdown",
      "source": [
        "# Klasifikasi Penderita Penyakit Liver Menggunakan Pendekatan Machine Learning\n",
        "\n",
        "[Dataset](https://www.kaggle.com/datasets/uciml/indian-liver-patient-records?resource=download) ini memiliki **583** data pasien dengan berbagai variabel dan kategori kelas setiap pasien. Variabel yang dimaksud di sini adalah fitur non-numerik seperti Gender, serta fitur numerik seperti Age, Total Bilirubin, Direct Bilirubin, Alkaline Phosphotase, Alamine Aminotransferase, Aspartate Aminotransferase, Total Proteins, Albumin dan Albumin & Globulin Ratio. Kesepuluh fitur ini adalah fitur yang akan digunakan dalam menemukan pola pada data, sedangkan Class merupakan fitur target."
      ],
      "metadata": {
        "id": "su30jWDjWpVS"
      }
    },
    {
      "cell_type": "code",
      "source": [
        "import pandas as pd\n",
        "import numpy as np\n",
        "data=pd.read_csv(\"indian_liver_patient.csv\")\n",
        "data.head()"
      ],
      "metadata": {
        "colab": {
          "base_uri": "https://localhost:8080/",
          "height": 270
        },
        "id": "JoqRrldFWrMw",
        "outputId": "abd102bf-052c-4692-cc50-516c9243acfa"
      },
      "execution_count": 1,
      "outputs": [
        {
          "output_type": "execute_result",
          "data": {
            "text/plain": [
              "   Age  Gender  Total_Bilirubin  Direct_Bilirubin  Alkaline_Phosphotase  \\\n",
              "0   65  Female              0.7               0.1                   187   \n",
              "1   62    Male             10.9               5.5                   699   \n",
              "2   62    Male              7.3               4.1                   490   \n",
              "3   58    Male              1.0               0.4                   182   \n",
              "4   72    Male              3.9               2.0                   195   \n",
              "\n",
              "   Alamine_Aminotransferase  Aspartate_Aminotransferase  Total_Protiens  \\\n",
              "0                        16                          18             6.8   \n",
              "1                        64                         100             7.5   \n",
              "2                        60                          68             7.0   \n",
              "3                        14                          20             6.8   \n",
              "4                        27                          59             7.3   \n",
              "\n",
              "   Albumin  Albumin_and_Globulin_Ratio  Class  \n",
              "0      3.3                        0.90  Liver  \n",
              "1      3.2                        0.74  Liver  \n",
              "2      3.3                        0.89  Liver  \n",
              "3      3.4                        1.00  Liver  \n",
              "4      2.4                        0.40  Liver  "
            ],
            "text/html": [
              "\n",
              "  <div id=\"df-55e6ca3d-9010-461c-8377-7650eb84da3a\">\n",
              "    <div class=\"colab-df-container\">\n",
              "      <div>\n",
              "<style scoped>\n",
              "    .dataframe tbody tr th:only-of-type {\n",
              "        vertical-align: middle;\n",
              "    }\n",
              "\n",
              "    .dataframe tbody tr th {\n",
              "        vertical-align: top;\n",
              "    }\n",
              "\n",
              "    .dataframe thead th {\n",
              "        text-align: right;\n",
              "    }\n",
              "</style>\n",
              "<table border=\"1\" class=\"dataframe\">\n",
              "  <thead>\n",
              "    <tr style=\"text-align: right;\">\n",
              "      <th></th>\n",
              "      <th>Age</th>\n",
              "      <th>Gender</th>\n",
              "      <th>Total_Bilirubin</th>\n",
              "      <th>Direct_Bilirubin</th>\n",
              "      <th>Alkaline_Phosphotase</th>\n",
              "      <th>Alamine_Aminotransferase</th>\n",
              "      <th>Aspartate_Aminotransferase</th>\n",
              "      <th>Total_Protiens</th>\n",
              "      <th>Albumin</th>\n",
              "      <th>Albumin_and_Globulin_Ratio</th>\n",
              "      <th>Class</th>\n",
              "    </tr>\n",
              "  </thead>\n",
              "  <tbody>\n",
              "    <tr>\n",
              "      <th>0</th>\n",
              "      <td>65</td>\n",
              "      <td>Female</td>\n",
              "      <td>0.7</td>\n",
              "      <td>0.1</td>\n",
              "      <td>187</td>\n",
              "      <td>16</td>\n",
              "      <td>18</td>\n",
              "      <td>6.8</td>\n",
              "      <td>3.3</td>\n",
              "      <td>0.90</td>\n",
              "      <td>Liver</td>\n",
              "    </tr>\n",
              "    <tr>\n",
              "      <th>1</th>\n",
              "      <td>62</td>\n",
              "      <td>Male</td>\n",
              "      <td>10.9</td>\n",
              "      <td>5.5</td>\n",
              "      <td>699</td>\n",
              "      <td>64</td>\n",
              "      <td>100</td>\n",
              "      <td>7.5</td>\n",
              "      <td>3.2</td>\n",
              "      <td>0.74</td>\n",
              "      <td>Liver</td>\n",
              "    </tr>\n",
              "    <tr>\n",
              "      <th>2</th>\n",
              "      <td>62</td>\n",
              "      <td>Male</td>\n",
              "      <td>7.3</td>\n",
              "      <td>4.1</td>\n",
              "      <td>490</td>\n",
              "      <td>60</td>\n",
              "      <td>68</td>\n",
              "      <td>7.0</td>\n",
              "      <td>3.3</td>\n",
              "      <td>0.89</td>\n",
              "      <td>Liver</td>\n",
              "    </tr>\n",
              "    <tr>\n",
              "      <th>3</th>\n",
              "      <td>58</td>\n",
              "      <td>Male</td>\n",
              "      <td>1.0</td>\n",
              "      <td>0.4</td>\n",
              "      <td>182</td>\n",
              "      <td>14</td>\n",
              "      <td>20</td>\n",
              "      <td>6.8</td>\n",
              "      <td>3.4</td>\n",
              "      <td>1.00</td>\n",
              "      <td>Liver</td>\n",
              "    </tr>\n",
              "    <tr>\n",
              "      <th>4</th>\n",
              "      <td>72</td>\n",
              "      <td>Male</td>\n",
              "      <td>3.9</td>\n",
              "      <td>2.0</td>\n",
              "      <td>195</td>\n",
              "      <td>27</td>\n",
              "      <td>59</td>\n",
              "      <td>7.3</td>\n",
              "      <td>2.4</td>\n",
              "      <td>0.40</td>\n",
              "      <td>Liver</td>\n",
              "    </tr>\n",
              "  </tbody>\n",
              "</table>\n",
              "</div>\n",
              "      <button class=\"colab-df-convert\" onclick=\"convertToInteractive('df-55e6ca3d-9010-461c-8377-7650eb84da3a')\"\n",
              "              title=\"Convert this dataframe to an interactive table.\"\n",
              "              style=\"display:none;\">\n",
              "        \n",
              "  <svg xmlns=\"http://www.w3.org/2000/svg\" height=\"24px\"viewBox=\"0 0 24 24\"\n",
              "       width=\"24px\">\n",
              "    <path d=\"M0 0h24v24H0V0z\" fill=\"none\"/>\n",
              "    <path d=\"M18.56 5.44l.94 2.06.94-2.06 2.06-.94-2.06-.94-.94-2.06-.94 2.06-2.06.94zm-11 1L8.5 8.5l.94-2.06 2.06-.94-2.06-.94L8.5 2.5l-.94 2.06-2.06.94zm10 10l.94 2.06.94-2.06 2.06-.94-2.06-.94-.94-2.06-.94 2.06-2.06.94z\"/><path d=\"M17.41 7.96l-1.37-1.37c-.4-.4-.92-.59-1.43-.59-.52 0-1.04.2-1.43.59L10.3 9.45l-7.72 7.72c-.78.78-.78 2.05 0 2.83L4 21.41c.39.39.9.59 1.41.59.51 0 1.02-.2 1.41-.59l7.78-7.78 2.81-2.81c.8-.78.8-2.07 0-2.86zM5.41 20L4 18.59l7.72-7.72 1.47 1.35L5.41 20z\"/>\n",
              "  </svg>\n",
              "      </button>\n",
              "      \n",
              "  <style>\n",
              "    .colab-df-container {\n",
              "      display:flex;\n",
              "      flex-wrap:wrap;\n",
              "      gap: 12px;\n",
              "    }\n",
              "\n",
              "    .colab-df-convert {\n",
              "      background-color: #E8F0FE;\n",
              "      border: none;\n",
              "      border-radius: 50%;\n",
              "      cursor: pointer;\n",
              "      display: none;\n",
              "      fill: #1967D2;\n",
              "      height: 32px;\n",
              "      padding: 0 0 0 0;\n",
              "      width: 32px;\n",
              "    }\n",
              "\n",
              "    .colab-df-convert:hover {\n",
              "      background-color: #E2EBFA;\n",
              "      box-shadow: 0px 1px 2px rgba(60, 64, 67, 0.3), 0px 1px 3px 1px rgba(60, 64, 67, 0.15);\n",
              "      fill: #174EA6;\n",
              "    }\n",
              "\n",
              "    [theme=dark] .colab-df-convert {\n",
              "      background-color: #3B4455;\n",
              "      fill: #D2E3FC;\n",
              "    }\n",
              "\n",
              "    [theme=dark] .colab-df-convert:hover {\n",
              "      background-color: #434B5C;\n",
              "      box-shadow: 0px 1px 3px 1px rgba(0, 0, 0, 0.15);\n",
              "      filter: drop-shadow(0px 1px 2px rgba(0, 0, 0, 0.3));\n",
              "      fill: #FFFFFF;\n",
              "    }\n",
              "  </style>\n",
              "\n",
              "      <script>\n",
              "        const buttonEl =\n",
              "          document.querySelector('#df-55e6ca3d-9010-461c-8377-7650eb84da3a button.colab-df-convert');\n",
              "        buttonEl.style.display =\n",
              "          google.colab.kernel.accessAllowed ? 'block' : 'none';\n",
              "\n",
              "        async function convertToInteractive(key) {\n",
              "          const element = document.querySelector('#df-55e6ca3d-9010-461c-8377-7650eb84da3a');\n",
              "          const dataTable =\n",
              "            await google.colab.kernel.invokeFunction('convertToInteractive',\n",
              "                                                     [key], {});\n",
              "          if (!dataTable) return;\n",
              "\n",
              "          const docLinkHtml = 'Like what you see? Visit the ' +\n",
              "            '<a target=\"_blank\" href=https://colab.research.google.com/notebooks/data_table.ipynb>data table notebook</a>'\n",
              "            + ' to learn more about interactive tables.';\n",
              "          element.innerHTML = '';\n",
              "          dataTable['output_type'] = 'display_data';\n",
              "          await google.colab.output.renderOutput(dataTable, element);\n",
              "          const docLink = document.createElement('div');\n",
              "          docLink.innerHTML = docLinkHtml;\n",
              "          element.appendChild(docLink);\n",
              "        }\n",
              "      </script>\n",
              "    </div>\n",
              "  </div>\n",
              "  "
            ]
          },
          "metadata": {},
          "execution_count": 1
        }
      ]
    },
    {
      "cell_type": "markdown",
      "source": [
        "Pasien yang memiliki usia lebih dari 89 tahun akan masuk dalam list usia 90 tahun. "
      ],
      "metadata": {
        "id": "bs9Eah7hv3Vl"
      }
    },
    {
      "cell_type": "code",
      "source": [
        "data.info()"
      ],
      "metadata": {
        "colab": {
          "base_uri": "https://localhost:8080/"
        },
        "id": "oRbzs9uS85tv",
        "outputId": "398ed9c8-8c39-4830-e2fc-61b7499d3653"
      },
      "execution_count": 2,
      "outputs": [
        {
          "output_type": "stream",
          "name": "stdout",
          "text": [
            "<class 'pandas.core.frame.DataFrame'>\n",
            "RangeIndex: 583 entries, 0 to 582\n",
            "Data columns (total 11 columns):\n",
            " #   Column                      Non-Null Count  Dtype  \n",
            "---  ------                      --------------  -----  \n",
            " 0   Age                         583 non-null    int64  \n",
            " 1   Gender                      583 non-null    object \n",
            " 2   Total_Bilirubin             583 non-null    float64\n",
            " 3   Direct_Bilirubin            583 non-null    float64\n",
            " 4   Alkaline_Phosphotase        583 non-null    int64  \n",
            " 5   Alamine_Aminotransferase    583 non-null    int64  \n",
            " 6   Aspartate_Aminotransferase  583 non-null    int64  \n",
            " 7   Total_Protiens              583 non-null    float64\n",
            " 8   Albumin                     583 non-null    float64\n",
            " 9   Albumin_and_Globulin_Ratio  579 non-null    float64\n",
            " 10  Class                       583 non-null    object \n",
            "dtypes: float64(5), int64(4), object(2)\n",
            "memory usage: 50.2+ KB\n"
          ]
        }
      ]
    },
    {
      "cell_type": "code",
      "source": [
        "import seaborn as sns\n",
        "data.describe().style.background_gradient(axis=1,cmap=sns.light_palette('purple', as_cmap=True))"
      ],
      "metadata": {
        "colab": {
          "base_uri": "https://localhost:8080/",
          "height": 320
        },
        "id": "g_WFCF2qn8yE",
        "outputId": "63780b2d-f3e4-4c58-daf8-1784a7a0444b"
      },
      "execution_count": 3,
      "outputs": [
        {
          "output_type": "execute_result",
          "data": {
            "text/plain": [
              "<pandas.io.formats.style.Styler at 0x7f53cf6eec50>"
            ],
            "text/html": [
              "<style type=\"text/css\">\n",
              "#T_7d3ce_row0_col0, #T_7d3ce_row0_col1, #T_7d3ce_row0_col2, #T_7d3ce_row0_col3, #T_7d3ce_row0_col4, #T_7d3ce_row0_col5, #T_7d3ce_row0_col6, #T_7d3ce_row0_col7, #T_7d3ce_row1_col3, #T_7d3ce_row2_col5, #T_7d3ce_row3_col3, #T_7d3ce_row4_col3, #T_7d3ce_row5_col3, #T_7d3ce_row6_col3, #T_7d3ce_row7_col5 {\n",
              "  background-color: #800080;\n",
              "  color: #f1f1f1;\n",
              "}\n",
              "#T_7d3ce_row0_col8, #T_7d3ce_row1_col2, #T_7d3ce_row1_col8, #T_7d3ce_row2_col6, #T_7d3ce_row2_col7, #T_7d3ce_row2_col8, #T_7d3ce_row3_col2, #T_7d3ce_row3_col8, #T_7d3ce_row4_col1, #T_7d3ce_row4_col2, #T_7d3ce_row4_col8, #T_7d3ce_row5_col1, #T_7d3ce_row5_col2, #T_7d3ce_row5_col8, #T_7d3ce_row6_col2, #T_7d3ce_row6_col8, #T_7d3ce_row7_col2, #T_7d3ce_row7_col6, #T_7d3ce_row7_col7, #T_7d3ce_row7_col8 {\n",
              "  background-color: #f3f0f3;\n",
              "  color: #000000;\n",
              "}\n",
              "#T_7d3ce_row1_col0 {\n",
              "  background-color: #e2cce2;\n",
              "  color: #000000;\n",
              "}\n",
              "#T_7d3ce_row1_col1, #T_7d3ce_row2_col2, #T_7d3ce_row6_col7 {\n",
              "  background-color: #f2eef2;\n",
              "  color: #000000;\n",
              "}\n",
              "#T_7d3ce_row1_col4 {\n",
              "  background-color: #d3aed3;\n",
              "  color: #000000;\n",
              "}\n",
              "#T_7d3ce_row1_col5 {\n",
              "  background-color: #c895c8;\n",
              "  color: #f1f1f1;\n",
              "}\n",
              "#T_7d3ce_row1_col6, #T_7d3ce_row7_col0 {\n",
              "  background-color: #f1ecf1;\n",
              "  color: #000000;\n",
              "}\n",
              "#T_7d3ce_row1_col7, #T_7d3ce_row3_col1, #T_7d3ce_row6_col1 {\n",
              "  background-color: #f2eff2;\n",
              "  color: #000000;\n",
              "}\n",
              "#T_7d3ce_row2_col0 {\n",
              "  background-color: #ece3ec;\n",
              "  color: #000000;\n",
              "}\n",
              "#T_7d3ce_row2_col1, #T_7d3ce_row6_col6 {\n",
              "  background-color: #f1ebf1;\n",
              "  color: #000000;\n",
              "}\n",
              "#T_7d3ce_row2_col3 {\n",
              "  background-color: #922692;\n",
              "  color: #f1f1f1;\n",
              "}\n",
              "#T_7d3ce_row2_col4 {\n",
              "  background-color: #aa58aa;\n",
              "  color: #f1f1f1;\n",
              "}\n",
              "#T_7d3ce_row3_col0 {\n",
              "  background-color: #ece2ec;\n",
              "  color: #000000;\n",
              "}\n",
              "#T_7d3ce_row3_col4, #T_7d3ce_row3_col5 {\n",
              "  background-color: #e1cae1;\n",
              "  color: #000000;\n",
              "}\n",
              "#T_7d3ce_row3_col6 {\n",
              "  background-color: #eee6ee;\n",
              "  color: #000000;\n",
              "}\n",
              "#T_7d3ce_row3_col7, #T_7d3ce_row4_col7, #T_7d3ce_row5_col7, #T_7d3ce_row7_col1 {\n",
              "  background-color: #f1edf1;\n",
              "  color: #000000;\n",
              "}\n",
              "#T_7d3ce_row4_col0 {\n",
              "  background-color: #dec4de;\n",
              "  color: #000000;\n",
              "}\n",
              "#T_7d3ce_row4_col4 {\n",
              "  background-color: #e4d1e4;\n",
              "  color: #000000;\n",
              "}\n",
              "#T_7d3ce_row4_col5 {\n",
              "  background-color: #e3cee3;\n",
              "  color: #000000;\n",
              "}\n",
              "#T_7d3ce_row4_col6 {\n",
              "  background-color: #efe8ef;\n",
              "  color: #000000;\n",
              "}\n",
              "#T_7d3ce_row5_col0 {\n",
              "  background-color: #dabcda;\n",
              "  color: #000000;\n",
              "}\n",
              "#T_7d3ce_row5_col4 {\n",
              "  background-color: #e0c8e0;\n",
              "  color: #000000;\n",
              "}\n",
              "#T_7d3ce_row5_col5, #T_7d3ce_row6_col4 {\n",
              "  background-color: #dcc0dc;\n",
              "  color: #000000;\n",
              "}\n",
              "#T_7d3ce_row5_col6 {\n",
              "  background-color: #f0e9f0;\n",
              "  color: #000000;\n",
              "}\n",
              "#T_7d3ce_row6_col0 {\n",
              "  background-color: #ddc2dd;\n",
              "  color: #000000;\n",
              "}\n",
              "#T_7d3ce_row6_col5 {\n",
              "  background-color: #d1aad1;\n",
              "  color: #000000;\n",
              "}\n",
              "#T_7d3ce_row7_col3 {\n",
              "  background-color: #c289c2;\n",
              "  color: #f1f1f1;\n",
              "}\n",
              "#T_7d3ce_row7_col4 {\n",
              "  background-color: #c48fc4;\n",
              "  color: #f1f1f1;\n",
              "}\n",
              "</style>\n",
              "<table id=\"T_7d3ce_\" class=\"dataframe\">\n",
              "  <thead>\n",
              "    <tr>\n",
              "      <th class=\"blank level0\" >&nbsp;</th>\n",
              "      <th class=\"col_heading level0 col0\" >Age</th>\n",
              "      <th class=\"col_heading level0 col1\" >Total_Bilirubin</th>\n",
              "      <th class=\"col_heading level0 col2\" >Direct_Bilirubin</th>\n",
              "      <th class=\"col_heading level0 col3\" >Alkaline_Phosphotase</th>\n",
              "      <th class=\"col_heading level0 col4\" >Alamine_Aminotransferase</th>\n",
              "      <th class=\"col_heading level0 col5\" >Aspartate_Aminotransferase</th>\n",
              "      <th class=\"col_heading level0 col6\" >Total_Protiens</th>\n",
              "      <th class=\"col_heading level0 col7\" >Albumin</th>\n",
              "      <th class=\"col_heading level0 col8\" >Albumin_and_Globulin_Ratio</th>\n",
              "    </tr>\n",
              "  </thead>\n",
              "  <tbody>\n",
              "    <tr>\n",
              "      <th id=\"T_7d3ce_level0_row0\" class=\"row_heading level0 row0\" >count</th>\n",
              "      <td id=\"T_7d3ce_row0_col0\" class=\"data row0 col0\" >583.000000</td>\n",
              "      <td id=\"T_7d3ce_row0_col1\" class=\"data row0 col1\" >583.000000</td>\n",
              "      <td id=\"T_7d3ce_row0_col2\" class=\"data row0 col2\" >583.000000</td>\n",
              "      <td id=\"T_7d3ce_row0_col3\" class=\"data row0 col3\" >583.000000</td>\n",
              "      <td id=\"T_7d3ce_row0_col4\" class=\"data row0 col4\" >583.000000</td>\n",
              "      <td id=\"T_7d3ce_row0_col5\" class=\"data row0 col5\" >583.000000</td>\n",
              "      <td id=\"T_7d3ce_row0_col6\" class=\"data row0 col6\" >583.000000</td>\n",
              "      <td id=\"T_7d3ce_row0_col7\" class=\"data row0 col7\" >583.000000</td>\n",
              "      <td id=\"T_7d3ce_row0_col8\" class=\"data row0 col8\" >579.000000</td>\n",
              "    </tr>\n",
              "    <tr>\n",
              "      <th id=\"T_7d3ce_level0_row1\" class=\"row_heading level0 row1\" >mean</th>\n",
              "      <td id=\"T_7d3ce_row1_col0\" class=\"data row1 col0\" >44.746141</td>\n",
              "      <td id=\"T_7d3ce_row1_col1\" class=\"data row1 col1\" >3.298799</td>\n",
              "      <td id=\"T_7d3ce_row1_col2\" class=\"data row1 col2\" >1.486106</td>\n",
              "      <td id=\"T_7d3ce_row1_col3\" class=\"data row1 col3\" >290.576329</td>\n",
              "      <td id=\"T_7d3ce_row1_col4\" class=\"data row1 col4\" >80.713551</td>\n",
              "      <td id=\"T_7d3ce_row1_col5\" class=\"data row1 col5\" >109.910806</td>\n",
              "      <td id=\"T_7d3ce_row1_col6\" class=\"data row1 col6\" >6.483190</td>\n",
              "      <td id=\"T_7d3ce_row1_col7\" class=\"data row1 col7\" >3.141852</td>\n",
              "      <td id=\"T_7d3ce_row1_col8\" class=\"data row1 col8\" >0.947064</td>\n",
              "    </tr>\n",
              "    <tr>\n",
              "      <th id=\"T_7d3ce_level0_row2\" class=\"row_heading level0 row2\" >std</th>\n",
              "      <td id=\"T_7d3ce_row2_col0\" class=\"data row2 col0\" >16.189833</td>\n",
              "      <td id=\"T_7d3ce_row2_col1\" class=\"data row2 col1\" >6.209522</td>\n",
              "      <td id=\"T_7d3ce_row2_col2\" class=\"data row2 col2\" >2.808498</td>\n",
              "      <td id=\"T_7d3ce_row2_col3\" class=\"data row2 col3\" >242.937989</td>\n",
              "      <td id=\"T_7d3ce_row2_col4\" class=\"data row2 col4\" >182.620356</td>\n",
              "      <td id=\"T_7d3ce_row2_col5\" class=\"data row2 col5\" >288.918529</td>\n",
              "      <td id=\"T_7d3ce_row2_col6\" class=\"data row2 col6\" >1.085451</td>\n",
              "      <td id=\"T_7d3ce_row2_col7\" class=\"data row2 col7\" >0.795519</td>\n",
              "      <td id=\"T_7d3ce_row2_col8\" class=\"data row2 col8\" >0.319592</td>\n",
              "    </tr>\n",
              "    <tr>\n",
              "      <th id=\"T_7d3ce_level0_row3\" class=\"row_heading level0 row3\" >min</th>\n",
              "      <td id=\"T_7d3ce_row3_col0\" class=\"data row3 col0\" >4.000000</td>\n",
              "      <td id=\"T_7d3ce_row3_col1\" class=\"data row3 col1\" >0.400000</td>\n",
              "      <td id=\"T_7d3ce_row3_col2\" class=\"data row3 col2\" >0.100000</td>\n",
              "      <td id=\"T_7d3ce_row3_col3\" class=\"data row3 col3\" >63.000000</td>\n",
              "      <td id=\"T_7d3ce_row3_col4\" class=\"data row3 col4\" >10.000000</td>\n",
              "      <td id=\"T_7d3ce_row3_col5\" class=\"data row3 col5\" >10.000000</td>\n",
              "      <td id=\"T_7d3ce_row3_col6\" class=\"data row3 col6\" >2.700000</td>\n",
              "      <td id=\"T_7d3ce_row3_col7\" class=\"data row3 col7\" >0.900000</td>\n",
              "      <td id=\"T_7d3ce_row3_col8\" class=\"data row3 col8\" >0.300000</td>\n",
              "    </tr>\n",
              "    <tr>\n",
              "      <th id=\"T_7d3ce_level0_row4\" class=\"row_heading level0 row4\" >25%</th>\n",
              "      <td id=\"T_7d3ce_row4_col0\" class=\"data row4 col0\" >33.000000</td>\n",
              "      <td id=\"T_7d3ce_row4_col1\" class=\"data row4 col1\" >0.800000</td>\n",
              "      <td id=\"T_7d3ce_row4_col2\" class=\"data row4 col2\" >0.200000</td>\n",
              "      <td id=\"T_7d3ce_row4_col3\" class=\"data row4 col3\" >175.500000</td>\n",
              "      <td id=\"T_7d3ce_row4_col4\" class=\"data row4 col4\" >23.000000</td>\n",
              "      <td id=\"T_7d3ce_row4_col5\" class=\"data row4 col5\" >25.000000</td>\n",
              "      <td id=\"T_7d3ce_row4_col6\" class=\"data row4 col6\" >5.800000</td>\n",
              "      <td id=\"T_7d3ce_row4_col7\" class=\"data row4 col7\" >2.600000</td>\n",
              "      <td id=\"T_7d3ce_row4_col8\" class=\"data row4 col8\" >0.700000</td>\n",
              "    </tr>\n",
              "    <tr>\n",
              "      <th id=\"T_7d3ce_level0_row5\" class=\"row_heading level0 row5\" >50%</th>\n",
              "      <td id=\"T_7d3ce_row5_col0\" class=\"data row5 col0\" >45.000000</td>\n",
              "      <td id=\"T_7d3ce_row5_col1\" class=\"data row5 col1\" >1.000000</td>\n",
              "      <td id=\"T_7d3ce_row5_col2\" class=\"data row5 col2\" >0.300000</td>\n",
              "      <td id=\"T_7d3ce_row5_col3\" class=\"data row5 col3\" >208.000000</td>\n",
              "      <td id=\"T_7d3ce_row5_col4\" class=\"data row5 col4\" >35.000000</td>\n",
              "      <td id=\"T_7d3ce_row5_col5\" class=\"data row5 col5\" >42.000000</td>\n",
              "      <td id=\"T_7d3ce_row5_col6\" class=\"data row5 col6\" >6.600000</td>\n",
              "      <td id=\"T_7d3ce_row5_col7\" class=\"data row5 col7\" >3.100000</td>\n",
              "      <td id=\"T_7d3ce_row5_col8\" class=\"data row5 col8\" >0.930000</td>\n",
              "    </tr>\n",
              "    <tr>\n",
              "      <th id=\"T_7d3ce_level0_row6\" class=\"row_heading level0 row6\" >75%</th>\n",
              "      <td id=\"T_7d3ce_row6_col0\" class=\"data row6 col0\" >58.000000</td>\n",
              "      <td id=\"T_7d3ce_row6_col1\" class=\"data row6 col1\" >2.600000</td>\n",
              "      <td id=\"T_7d3ce_row6_col2\" class=\"data row6 col2\" >1.300000</td>\n",
              "      <td id=\"T_7d3ce_row6_col3\" class=\"data row6 col3\" >298.000000</td>\n",
              "      <td id=\"T_7d3ce_row6_col4\" class=\"data row6 col4\" >60.500000</td>\n",
              "      <td id=\"T_7d3ce_row6_col5\" class=\"data row6 col5\" >87.000000</td>\n",
              "      <td id=\"T_7d3ce_row6_col6\" class=\"data row6 col6\" >7.200000</td>\n",
              "      <td id=\"T_7d3ce_row6_col7\" class=\"data row6 col7\" >3.800000</td>\n",
              "      <td id=\"T_7d3ce_row6_col8\" class=\"data row6 col8\" >1.100000</td>\n",
              "    </tr>\n",
              "    <tr>\n",
              "      <th id=\"T_7d3ce_level0_row7\" class=\"row_heading level0 row7\" >max</th>\n",
              "      <td id=\"T_7d3ce_row7_col0\" class=\"data row7 col0\" >90.000000</td>\n",
              "      <td id=\"T_7d3ce_row7_col1\" class=\"data row7 col1\" >75.000000</td>\n",
              "      <td id=\"T_7d3ce_row7_col2\" class=\"data row7 col2\" >19.700000</td>\n",
              "      <td id=\"T_7d3ce_row7_col3\" class=\"data row7 col3\" >2110.000000</td>\n",
              "      <td id=\"T_7d3ce_row7_col4\" class=\"data row7 col4\" >2000.000000</td>\n",
              "      <td id=\"T_7d3ce_row7_col5\" class=\"data row7 col5\" >4929.000000</td>\n",
              "      <td id=\"T_7d3ce_row7_col6\" class=\"data row7 col6\" >9.600000</td>\n",
              "      <td id=\"T_7d3ce_row7_col7\" class=\"data row7 col7\" >5.500000</td>\n",
              "      <td id=\"T_7d3ce_row7_col8\" class=\"data row7 col8\" >2.800000</td>\n",
              "    </tr>\n",
              "  </tbody>\n",
              "</table>\n"
            ]
          },
          "metadata": {},
          "execution_count": 3
        }
      ]
    },
    {
      "cell_type": "markdown",
      "source": [
        "berdasarkan hasil dari diskripsi data tersebut, menunjukkan bahwa ;\n",
        "1. rata-rata usia pasien terindikasi penyakit Liver yaitu 44 tahun, dimana pasien yang paling tertua berusia 90 tahun.\n",
        "2. 441 pasien berjenis kelamin laki-laki dan 142 pasien berjenis kelamin perempuan.\n",
        "3. rata-rata total kadar bilirubin dalam tubuh pasien yaitu sebesar 3,29 g/mol, dimana yang paling tertinggi yaitu 75 g/mol. Karena antara nilai kandungan bilirubin tertinggi dengan nilai rata-rata terpaut cukup jauh, maka hal tersebut mengindikasikan terdapat data outlier pada variabel Total  bilirubin.\n",
        "4. Sedangkan rata-rata kadar albumin pasien yaitu sebesar 3,14 mg/dl dan yang tertinggi sebesar 5,50 mg/dl, dimana kisaran normal albumin adalah 0-8 mg/dl.\n"
      ],
      "metadata": {
        "id": "p9pP7dp8uyZE"
      }
    },
    {
      "cell_type": "code",
      "source": [
        "data.isnull().sum() #cek missing value atau data.isna().sum()"
      ],
      "metadata": {
        "colab": {
          "base_uri": "https://localhost:8080/"
        },
        "id": "eOpdeEJ5o06L",
        "outputId": "8d9d16eb-e6c6-4b8d-96fb-7fce330a0cb7"
      },
      "execution_count": 4,
      "outputs": [
        {
          "output_type": "execute_result",
          "data": {
            "text/plain": [
              "Age                           0\n",
              "Gender                        0\n",
              "Total_Bilirubin               0\n",
              "Direct_Bilirubin              0\n",
              "Alkaline_Phosphotase          0\n",
              "Alamine_Aminotransferase      0\n",
              "Aspartate_Aminotransferase    0\n",
              "Total_Protiens                0\n",
              "Albumin                       0\n",
              "Albumin_and_Globulin_Ratio    4\n",
              "Class                         0\n",
              "dtype: int64"
            ]
          },
          "metadata": {},
          "execution_count": 4
        }
      ]
    },
    {
      "cell_type": "markdown",
      "source": [
        "Ternyata terdapat data yang missing value yaitu pada data Albumin and Globulin Ratio. Memiliki 4 data yang hilang. Sehingga diperlukan suatu metode untuk mengatasi hal tersebut.\n",
        "\n",
        "terdapat 3 cara dalam mengatasi **missing value**;\n",
        "1. dibiarkan\n",
        "2. Mengahapus varaibel atau baris data yang mengandung missing value==> .dropna()\n",
        "3. Mensubtitusikan nilai mean/ median/ modus kedalam variabel atau baris data yang mengandung missing value==> .fillna()\n",
        "\n",
        "\n",
        "variabel yang mengandung missing value yaitu albumin and globulin ratio.\n",
        "\n",
        " *Albumin merupakan protein utama yang memiliki struktur sederhana dengan jumlah sedikit di dalam sel, sedangkan globulin merupakan protein sederhana dengan jumlah banyak di dalam plasma dan sel*. missing value pada variabel tersebut akan diisi dengan nilai rata-rata dari kadar albumin dan globulin seluruh pasien.\n"
      ],
      "metadata": {
        "id": "rmNast34pcVh"
      }
    },
    {
      "cell_type": "code",
      "source": [
        "#mengatasi missing value\n",
        "rata_ag = data['Albumin_and_Globulin_Ratio'].mean()\n",
        "data['Albumin_and_Globulin_Ratio'] = data['Albumin_and_Globulin_Ratio'].fillna(rata_ag)\n",
        "data['Albumin_and_Globulin_Ratio'].isna().sum()"
      ],
      "metadata": {
        "colab": {
          "base_uri": "https://localhost:8080/"
        },
        "id": "0p69AUgkiFyc",
        "outputId": "0674b5cb-a308-42d2-c4ba-2c52381c29ca"
      },
      "execution_count": 5,
      "outputs": [
        {
          "output_type": "execute_result",
          "data": {
            "text/plain": [
              "0"
            ]
          },
          "metadata": {},
          "execution_count": 5
        }
      ]
    },
    {
      "cell_type": "code",
      "source": [
        "#cek apakah ada data duplikat\n",
        "print(data.duplicated().sum())\n",
        "#apabila terdapat data duplicate, maka dapat diatasi dengan cara menghilangkan data tersebut\n",
        "data.drop_duplicates(inplace=True)\n",
        "#cek\n",
        "print(data.duplicated().sum())"
      ],
      "metadata": {
        "colab": {
          "base_uri": "https://localhost:8080/"
        },
        "id": "-oK1vrwJi2Ou",
        "outputId": "c105524d-0e4d-4d7c-bfab-072ba05591b0"
      },
      "execution_count": 6,
      "outputs": [
        {
          "output_type": "stream",
          "name": "stdout",
          "text": [
            "13\n",
            "0\n"
          ]
        }
      ]
    },
    {
      "cell_type": "code",
      "source": [
        "#categorical columns\n",
        "cat = ['Class', 'Gender']\n",
        "#continuous columns\n",
        "conti =[ 'Age', 'Total_Bilirubin', 'Direct_Bilirubin', 'Alkaline_Phosphotase','Alamine_Aminotransferase','Aspartate_Aminotransferase','Total_Protiens','Albumin','Albumin_and_Globulin_Ratio']"
      ],
      "metadata": {
        "id": "zav5aO9cXQUT"
      },
      "execution_count": 8,
      "outputs": []
    },
    {
      "cell_type": "code",
      "source": [
        "#berikut adalah sebaran nilai pada variabel kategori\n",
        "for col in cat:\n",
        "  print(f'''Value count kolom {col}: ''')\n",
        "  print(data[col].value_counts())\n",
        "  print()"
      ],
      "metadata": {
        "colab": {
          "base_uri": "https://localhost:8080/"
        },
        "id": "plZvLvrlkE2S",
        "outputId": "68993178-49bf-4bd8-be93-c26c223d3904"
      },
      "execution_count": 9,
      "outputs": [
        {
          "output_type": "stream",
          "name": "stdout",
          "text": [
            "Value count kolom Class: \n",
            "Liver        406\n",
            "Non-Liver    164\n",
            "Name: Class, dtype: int64\n",
            "\n",
            "Value count kolom Gender: \n",
            "Male      430\n",
            "Female    140\n",
            "Name: Gender, dtype: int64\n",
            "\n"
          ]
        }
      ]
    },
    {
      "cell_type": "code",
      "source": [
        "import matplotlib.pyplot as plt\n",
        "labels = 'male','female'\n",
        "data['Gender'].value_counts().plot.pie(explode=[0.1,0.1],labels=labels, autopct='%1.1f%%',shadow=True,figsize=(5,5));\n",
        "plt.title(\"PROPORSI JENIS KELAMIN PASIEN(%)\")"
      ],
      "metadata": {
        "colab": {
          "base_uri": "https://localhost:8080/",
          "height": 336
        },
        "id": "6iN4f9fYQ-0K",
        "outputId": "31036312-4b71-456d-b327-fd356fab55a6"
      },
      "execution_count": 10,
      "outputs": [
        {
          "output_type": "execute_result",
          "data": {
            "text/plain": [
              "Text(0.5, 1.0, 'PROPORSI JENIS KELAMIN PASIEN(%)')"
            ]
          },
          "metadata": {},
          "execution_count": 10
        },
        {
          "output_type": "display_data",
          "data": {
            "text/plain": [
              "<Figure size 360x360 with 1 Axes>"
            ],
            "image/png": "[encoded data removed]"
          },
          "metadata": {}
        }
      ]
    },
    {
      "cell_type": "code",
      "source": [
        "labels1 = 'Liver','Non-Liver'\n",
        "data['Class'].value_counts().plot.pie(explode=[0.1,0.1],labels=labels1, autopct='%1.1f%%',shadow=True,figsize=(5,5));\n",
        "plt.title(\"PROPORSI KATEGORI PASIEN(%)\")"
      ],
      "metadata": {
        "colab": {
          "base_uri": "https://localhost:8080/",
          "height": 336
        },
        "id": "movI1YqfSJvY",
        "outputId": "04e6aadc-ca1a-4b11-c83c-4a871f8071e8"
      },
      "execution_count": 11,
      "outputs": [
        {
          "output_type": "execute_result",
          "data": {
            "text/plain": [
              "Text(0.5, 1.0, 'PROPORSI KATEGORI PASIEN(%)')"
            ]
          },
          "metadata": {},
          "execution_count": 11
        },
        {
          "output_type": "display_data",
          "data": {
            "text/plain": [
              "<Figure size 360x360 with 1 Axes>"
            ],
            "image/png": "[encoded data removed]"
          },
          "metadata": {}
        }
      ]
    },
    {
      "cell_type": "code",
      "source": [
        "data = data.drop(['Age','Gender'], axis=1) #variabel Age dan Gender dihilangkan, karena tidak memiliki hubungan yang cukup signifikan terhadap penyakit liver"
      ],
      "metadata": {
        "id": "Xj47hK41V3O0"
      },
      "execution_count": 12,
      "outputs": []
    },
    {
      "cell_type": "code",
      "source": [
        "#categorical columns\n",
        "cat = ['Class']\n",
        "#continuous columns\n",
        "conti =[ 'Total_Bilirubin', 'Direct_Bilirubin', 'Alkaline_Phosphotase','Alamine_Aminotransferase','Aspartate_Aminotransferase','Total_Protiens','Albumin','Albumin_and_Globulin_Ratio']"
      ],
      "metadata": {
        "id": "bLNURkEvVwSN"
      },
      "execution_count": 13,
      "outputs": []
    },
    {
      "cell_type": "code",
      "source": [
        "#cek outlier menggunakan grafik boxplot\n",
        "import matplotlib.pyplot as plt\n",
        "import seaborn as sns\n",
        "\n",
        "plt.figure(figsize=(12,12))\n",
        "for i in range(0, len(conti)):\n",
        "  plt.subplot(6, 5 , i+1)\n",
        "  sns.boxplot(data[conti[i]], color='purple', orient='v')\n",
        "  plt.tight_layout()\n",
        "# sns.boxplot(data['Asportate_Aminotransferase'], color='green', orient='v')"
      ],
      "metadata": {
        "colab": {
          "base_uri": "https://localhost:8080/",
          "height": 891
        },
        "id": "J8MfH7lBk6Am",
        "outputId": "44792245-f325-4b4f-ca1c-b2bcd1e17cef"
      },
      "execution_count": 14,
      "outputs": [
        {
          "output_type": "stream",
          "name": "stderr",
          "text": [
            "/usr/local/lib/python3.7/dist-packages/seaborn/_decorators.py:43: FutureWarning: Pass the following variable as a keyword arg: x. From version 0.12, the only valid positional argument will be `data`, and passing other arguments without an explicit keyword will result in an error or misinterpretation.\n",
            "  FutureWarning\n",
            "/usr/local/lib/python3.7/dist-packages/seaborn/_core.py:1326: UserWarning: Vertical orientation ignored with only `x` specified.\n",
            "  warnings.warn(single_var_warning.format(\"Vertical\", \"x\"))\n",
            "/usr/local/lib/python3.7/dist-packages/seaborn/_decorators.py:43: FutureWarning: Pass the following variable as a keyword arg: x. From version 0.12, the only valid positional argument will be `data`, and passing other arguments without an explicit keyword will result in an error or misinterpretation.\n",
            "  FutureWarning\n",
            "/usr/local/lib/python3.7/dist-packages/seaborn/_core.py:1326: UserWarning: Vertical orientation ignored with only `x` specified.\n",
            "  warnings.warn(single_var_warning.format(\"Vertical\", \"x\"))\n",
            "/usr/local/lib/python3.7/dist-packages/seaborn/_decorators.py:43: FutureWarning: Pass the following variable as a keyword arg: x. From version 0.12, the only valid positional argument will be `data`, and passing other arguments without an explicit keyword will result in an error or misinterpretation.\n",
            "  FutureWarning\n",
            "/usr/local/lib/python3.7/dist-packages/seaborn/_core.py:1326: UserWarning: Vertical orientation ignored with only `x` specified.\n",
            "  warnings.warn(single_var_warning.format(\"Vertical\", \"x\"))\n",
            "/usr/local/lib/python3.7/dist-packages/seaborn/_decorators.py:43: FutureWarning: Pass the following variable as a keyword arg: x. From version 0.12, the only valid positional argument will be `data`, and passing other arguments without an explicit keyword will result in an error or misinterpretation.\n",
            "  FutureWarning\n",
            "/usr/local/lib/python3.7/dist-packages/seaborn/_core.py:1326: UserWarning: Vertical orientation ignored with only `x` specified.\n",
            "  warnings.warn(single_var_warning.format(\"Vertical\", \"x\"))\n",
            "/usr/local/lib/python3.7/dist-packages/seaborn/_decorators.py:43: FutureWarning: Pass the following variable as a keyword arg: x. From version 0.12, the only valid positional argument will be `data`, and passing other arguments without an explicit keyword will result in an error or misinterpretation.\n",
            "  FutureWarning\n",
            "/usr/local/lib/python3.7/dist-packages/seaborn/_core.py:1326: UserWarning: Vertical orientation ignored with only `x` specified.\n",
            "  warnings.warn(single_var_warning.format(\"Vertical\", \"x\"))\n",
            "/usr/local/lib/python3.7/dist-packages/seaborn/_decorators.py:43: FutureWarning: Pass the following variable as a keyword arg: x. From version 0.12, the only valid positional argument will be `data`, and passing other arguments without an explicit keyword will result in an error or misinterpretation.\n",
            "  FutureWarning\n",
            "/usr/local/lib/python3.7/dist-packages/seaborn/_core.py:1326: UserWarning: Vertical orientation ignored with only `x` specified.\n",
            "  warnings.warn(single_var_warning.format(\"Vertical\", \"x\"))\n",
            "/usr/local/lib/python3.7/dist-packages/seaborn/_decorators.py:43: FutureWarning: Pass the following variable as a keyword arg: x. From version 0.12, the only valid positional argument will be `data`, and passing other arguments without an explicit keyword will result in an error or misinterpretation.\n",
            "  FutureWarning\n",
            "/usr/local/lib/python3.7/dist-packages/seaborn/_core.py:1326: UserWarning: Vertical orientation ignored with only `x` specified.\n",
            "  warnings.warn(single_var_warning.format(\"Vertical\", \"x\"))\n",
            "/usr/local/lib/python3.7/dist-packages/seaborn/_decorators.py:43: FutureWarning: Pass the following variable as a keyword arg: x. From version 0.12, the only valid positional argument will be `data`, and passing other arguments without an explicit keyword will result in an error or misinterpretation.\n",
            "  FutureWarning\n",
            "/usr/local/lib/python3.7/dist-packages/seaborn/_core.py:1326: UserWarning: Vertical orientation ignored with only `x` specified.\n",
            "  warnings.warn(single_var_warning.format(\"Vertical\", \"x\"))\n"
          ]
        },
        {
          "output_type": "display_data",
          "data": {
            "text/plain": [
              "<Figure size 864x864 with 8 Axes>"
            ],
            "image/png": "[encoded data removed]"
          },
          "metadata": {
            "needs_background": "light"
          }
        }
      ]
    },
    {
      "cell_type": "markdown",
      "source": [
        "berdasarkan grafik boxplot tersebut menunjukkan bahwa hanya terdapat empat variabel yang tidak memiliki data yang outlier yaitu variabel age (umur), Alkaline Phosphotase, variabel kadar Albumin dan Rasio kadarAlbumin Globulin. Sedangkan untuk variabel kontinuous yang lain memiliki data outlier. Serta grafik tersebut menunjukkan bahwa data cenderung mengalami skewness positif."
      ],
      "metadata": {
        "id": "VN9_SGN9racj"
      }
    },
    {
      "cell_type": "code",
      "source": [
        "#mengatasi outlier\n",
        "print(f'Jumlah baris sebelum memfilter outlier: {len(data)}')\n",
        "\n",
        "## CODE HERE\n",
        "filtered_entries = np.array([False] * len(data))\n",
        "for col in ['Total_Bilirubin', 'Direct_Bilirubin', 'Alamine_Aminotransferase', 'Aspartate_Aminotransferase', 'Total_Protiens']:\n",
        "    Q1 = data[col].quantile(0.25)\n",
        "    Q3 = data[col].quantile(0.75)\n",
        "    IQR = Q3 - Q1\n",
        "    low_limit = Q1 - (IQR * 1.5)\n",
        "    high_limit = Q3 + (IQR * 1.5)\n",
        "\n",
        "    filtered_entries = ((data[col] < low_limit) | (data[col] > high_limit)) | filtered_entries\n",
        "    \n",
        "data = data[~filtered_entries]\n",
        "print(f'Jumlah baris setelah memfilter outlier: {len(data)}')"
      ],
      "metadata": {
        "colab": {
          "base_uri": "https://localhost:8080/"
        },
        "id": "pDXE4dS8YDSa",
        "outputId": "cd9ec09b-4227-4198-95b9-14da6ebf6314"
      },
      "execution_count": 16,
      "outputs": [
        {
          "output_type": "stream",
          "name": "stdout",
          "text": [
            "Jumlah baris sebelum memfilter outlier: 570\n",
            "Jumlah baris setelah memfilter outlier: 428\n"
          ]
        }
      ]
    },
    {
      "cell_type": "code",
      "source": [
        "# cek outlier setelah diatasi\n",
        "plt.figure(figsize=(12,12))\n",
        "for i in range(0, len(conti)):\n",
        "  plt.subplot(6, 5 , i+1)\n",
        "  sns.boxplot(data1[conti[i]], color='purple', orient='v')\n",
        "  plt.tight_layout()"
      ],
      "metadata": {
        "colab": {
          "base_uri": "https://localhost:8080/",
          "height": 891
        },
        "id": "oyuuthJNYbSj",
        "outputId": "c75a55b0-da19-413b-9e3e-93a2f21c0ada"
      },
      "execution_count": 18,
      "outputs": [
        {
          "output_type": "stream",
          "name": "stderr",
          "text": [
            "/usr/local/lib/python3.7/dist-packages/seaborn/_decorators.py:43: FutureWarning: Pass the following variable as a keyword arg: x. From version 0.12, the only valid positional argument will be `data`, and passing other arguments without an explicit keyword will result in an error or misinterpretation.\n",
            "  FutureWarning\n",
            "/usr/local/lib/python3.7/dist-packages/seaborn/_core.py:1326: UserWarning: Vertical orientation ignored with only `x` specified.\n",
            "  warnings.warn(single_var_warning.format(\"Vertical\", \"x\"))\n",
            "/usr/local/lib/python3.7/dist-packages/seaborn/_decorators.py:43: FutureWarning: Pass the following variable as a keyword arg: x. From version 0.12, the only valid positional argument will be `data`, and passing other arguments without an explicit keyword will result in an error or misinterpretation.\n",
            "  FutureWarning\n",
            "/usr/local/lib/python3.7/dist-packages/seaborn/_core.py:1326: UserWarning: Vertical orientation ignored with only `x` specified.\n",
            "  warnings.warn(single_var_warning.format(\"Vertical\", \"x\"))\n",
            "/usr/local/lib/python3.7/dist-packages/seaborn/_decorators.py:43: FutureWarning: Pass the following variable as a keyword arg: x. From version 0.12, the only valid positional argument will be `data`, and passing other arguments without an explicit keyword will result in an error or misinterpretation.\n",
            "  FutureWarning\n",
            "/usr/local/lib/python3.7/dist-packages/seaborn/_core.py:1326: UserWarning: Vertical orientation ignored with only `x` specified.\n",
            "  warnings.warn(single_var_warning.format(\"Vertical\", \"x\"))\n",
            "/usr/local/lib/python3.7/dist-packages/seaborn/_decorators.py:43: FutureWarning: Pass the following variable as a keyword arg: x. From version 0.12, the only valid positional argument will be `data`, and passing other arguments without an explicit keyword will result in an error or misinterpretation.\n",
            "  FutureWarning\n",
            "/usr/local/lib/python3.7/dist-packages/seaborn/_core.py:1326: UserWarning: Vertical orientation ignored with only `x` specified.\n",
            "  warnings.warn(single_var_warning.format(\"Vertical\", \"x\"))\n",
            "/usr/local/lib/python3.7/dist-packages/seaborn/_decorators.py:43: FutureWarning: Pass the following variable as a keyword arg: x. From version 0.12, the only valid positional argument will be `data`, and passing other arguments without an explicit keyword will result in an error or misinterpretation.\n",
            "  FutureWarning\n",
            "/usr/local/lib/python3.7/dist-packages/seaborn/_core.py:1326: UserWarning: Vertical orientation ignored with only `x` specified.\n",
            "  warnings.warn(single_var_warning.format(\"Vertical\", \"x\"))\n",
            "/usr/local/lib/python3.7/dist-packages/seaborn/_decorators.py:43: FutureWarning: Pass the following variable as a keyword arg: x. From version 0.12, the only valid positional argument will be `data`, and passing other arguments without an explicit keyword will result in an error or misinterpretation.\n",
            "  FutureWarning\n",
            "/usr/local/lib/python3.7/dist-packages/seaborn/_core.py:1326: UserWarning: Vertical orientation ignored with only `x` specified.\n",
            "  warnings.warn(single_var_warning.format(\"Vertical\", \"x\"))\n",
            "/usr/local/lib/python3.7/dist-packages/seaborn/_decorators.py:43: FutureWarning: Pass the following variable as a keyword arg: x. From version 0.12, the only valid positional argument will be `data`, and passing other arguments without an explicit keyword will result in an error or misinterpretation.\n",
            "  FutureWarning\n",
            "/usr/local/lib/python3.7/dist-packages/seaborn/_core.py:1326: UserWarning: Vertical orientation ignored with only `x` specified.\n",
            "  warnings.warn(single_var_warning.format(\"Vertical\", \"x\"))\n",
            "/usr/local/lib/python3.7/dist-packages/seaborn/_decorators.py:43: FutureWarning: Pass the following variable as a keyword arg: x. From version 0.12, the only valid positional argument will be `data`, and passing other arguments without an explicit keyword will result in an error or misinterpretation.\n",
            "  FutureWarning\n",
            "/usr/local/lib/python3.7/dist-packages/seaborn/_core.py:1326: UserWarning: Vertical orientation ignored with only `x` specified.\n",
            "  warnings.warn(single_var_warning.format(\"Vertical\", \"x\"))\n"
          ]
        },
        {
          "output_type": "display_data",
          "data": {
            "text/plain": [
              "<Figure size 864x864 with 8 Axes>"
            ],
            "image/png": "[encoded data removed]"
          },
          "metadata": {
            "needs_background": "light"
          }
        }
      ]
    },
    {
      "cell_type": "code",
      "source": [
        "#cek nilai skewness\n",
        "print(\"Skew: {}\".format(data[conti].skew())) "
      ],
      "metadata": {
        "colab": {
          "base_uri": "https://localhost:8080/"
        },
        "id": "glnCnOECHDFm",
        "outputId": "a26d20c6-969e-49d1-8201-fa8c9e25a9fd"
      },
      "execution_count": 19,
      "outputs": [
        {
          "output_type": "stream",
          "name": "stdout",
          "text": [
            "Skew: Total_Bilirubin               2.113565\n",
            "Direct_Bilirubin              2.061542\n",
            "Alkaline_Phosphotase          5.028365\n",
            "Alamine_Aminotransferase      1.520171\n",
            "Aspartate_Aminotransferase    1.883239\n",
            "Total_Protiens               -0.188233\n",
            "Albumin                      -0.059527\n",
            "Albumin_and_Globulin_Ratio    0.466303\n",
            "dtype: float64\n"
          ]
        }
      ]
    },
    {
      "cell_type": "markdown",
      "source": [
        "Selain itu, kita juga dapat untuk mengecek skewness berdasarkan grafik **Violin Plot**.\n",
        "\n",
        "\n",
        "\n"
      ],
      "metadata": {
        "id": "rH0c4ZFOmfhY"
      }
    },
    {
      "cell_type": "code",
      "source": [
        "sns.violinplot(data['Total_Bilirubin'], color='green', orient='v')"
      ],
      "metadata": {
        "colab": {
          "base_uri": "https://localhost:8080/",
          "height": 387
        },
        "id": "M1gFqUcls-7e",
        "outputId": "043005d5-40f7-4d40-b9ab-be2d0ef7ca3c"
      },
      "execution_count": 20,
      "outputs": [
        {
          "output_type": "stream",
          "name": "stderr",
          "text": [
            "/usr/local/lib/python3.7/dist-packages/seaborn/_decorators.py:43: FutureWarning: Pass the following variable as a keyword arg: x. From version 0.12, the only valid positional argument will be `data`, and passing other arguments without an explicit keyword will result in an error or misinterpretation.\n",
            "  FutureWarning\n",
            "/usr/local/lib/python3.7/dist-packages/seaborn/_core.py:1326: UserWarning: Vertical orientation ignored with only `x` specified.\n",
            "  warnings.warn(single_var_warning.format(\"Vertical\", \"x\"))\n"
          ]
        },
        {
          "output_type": "execute_result",
          "data": {
            "text/plain": [
              "<matplotlib.axes._subplots.AxesSubplot at 0x7f53bfcb2a10>"
            ]
          },
          "metadata": {},
          "execution_count": 20
        },
        {
          "output_type": "display_data",
          "data": {
            "text/plain": [
              "<Figure size 432x288 with 1 Axes>"
            ],
            "image/png": "[encoded data removed]"
          },
          "metadata": {
            "needs_background": "light"
          }
        }
      ]
    },
    {
      "cell_type": "markdown",
      "source": [
        "Karena nilai skewness cenderung kecil, sehingga lebih baik tidak perlu dilakukan normalisasi. Jika terdapat data yang memiliki nilai skewness yang cukup tinggi, maka diperlukan normalisasi untuk mengatasi hal tersebut. Terdapat 3 cara untuk melakukan normalisasi, yaitu ;\n",
        "1. Simple feature scaling\n",
        "2. Min-Max\n",
        "3. Z-score\n",
        "\n",
        "Apabila akan melakukan normalisasi berdasarkan metode Min Max, maka dapat menggunakan syntax sebagai berikut ;\n",
        "\n",
        "\n",
        "```\n",
        "from sklearn.preprocessing import MinMaxScaler\n",
        "scaling = MinMaxScaler()\n",
        "data = scaling.fit_transform(data)\n",
        "data = pd.DataFrame(data)\n",
        "data.head()\n",
        "```"
      ],
      "metadata": {
        "id": "-yqWZ0ivZEj9"
      }
    },
    {
      "cell_type": "code",
      "source": [
        "from sklearn.preprocessing import LabelEncoder\n",
        "le = LabelEncoder()\n",
        "data = data.apply(le.fit_transform)\n",
        "data.head()"
      ],
      "metadata": {
        "colab": {
          "base_uri": "https://localhost:8080/",
          "height": 250
        },
        "id": "wtJuCpOMXf2k",
        "outputId": "aec68caa-e7a6-4bd3-87b7-7439fcb886a4"
      },
      "execution_count": 21,
      "outputs": [
        {
          "output_type": "execute_result",
          "data": {
            "text/plain": [
              "   Total_Bilirubin  Direct_Bilirubin  Alkaline_Phosphotase  \\\n",
              "0                3                 0                    67   \n",
              "3                6                 3                    62   \n",
              "4               33                19                    75   \n",
              "5               14                 6                    86   \n",
              "6                5                 1                    34   \n",
              "\n",
              "   Alamine_Aminotransferase  Aspartate_Aminotransferase  Total_Protiens  \\\n",
              "0                         6                           8              29   \n",
              "3                         4                          10              29   \n",
              "4                        17                          49              34   \n",
              "5                         9                           4              37   \n",
              "6                         6                           2              31   \n",
              "\n",
              "   Albumin  Albumin_and_Globulin_Ratio  Class  \n",
              "0       19                          24      0  \n",
              "3       20                          31      0  \n",
              "4       10                           3      0  \n",
              "5       30                          38      0  \n",
              "6       21                          31      0  "
            ],
            "text/html": [
              "\n",
              "  <div id=\"df-d38d8c3e-da41-4762-a9c3-e3157e574482\">\n",
              "    <div class=\"colab-df-container\">\n",
              "      <div>\n",
              "<style scoped>\n",
              "    .dataframe tbody tr th:only-of-type {\n",
              "        vertical-align: middle;\n",
              "    }\n",
              "\n",
              "    .dataframe tbody tr th {\n",
              "        vertical-align: top;\n",
              "    }\n",
              "\n",
              "    .dataframe thead th {\n",
              "        text-align: right;\n",
              "    }\n",
              "</style>\n",
              "<table border=\"1\" class=\"dataframe\">\n",
              "  <thead>\n",
              "    <tr style=\"text-align: right;\">\n",
              "      <th></th>\n",
              "      <th>Total_Bilirubin</th>\n",
              "      <th>Direct_Bilirubin</th>\n",
              "      <th>Alkaline_Phosphotase</th>\n",
              "      <th>Alamine_Aminotransferase</th>\n",
              "      <th>Aspartate_Aminotransferase</th>\n",
              "      <th>Total_Protiens</th>\n",
              "      <th>Albumin</th>\n",
              "      <th>Albumin_and_Globulin_Ratio</th>\n",
              "      <th>Class</th>\n",
              "    </tr>\n",
              "  </thead>\n",
              "  <tbody>\n",
              "    <tr>\n",
              "      <th>0</th>\n",
              "      <td>3</td>\n",
              "      <td>0</td>\n",
              "      <td>67</td>\n",
              "      <td>6</td>\n",
              "      <td>8</td>\n",
              "      <td>29</td>\n",
              "      <td>19</td>\n",
              "      <td>24</td>\n",
              "      <td>0</td>\n",
              "    </tr>\n",
              "    <tr>\n",
              "      <th>3</th>\n",
              "      <td>6</td>\n",
              "      <td>3</td>\n",
              "      <td>62</td>\n",
              "      <td>4</td>\n",
              "      <td>10</td>\n",
              "      <td>29</td>\n",
              "      <td>20</td>\n",
              "      <td>31</td>\n",
              "      <td>0</td>\n",
              "    </tr>\n",
              "    <tr>\n",
              "      <th>4</th>\n",
              "      <td>33</td>\n",
              "      <td>19</td>\n",
              "      <td>75</td>\n",
              "      <td>17</td>\n",
              "      <td>49</td>\n",
              "      <td>34</td>\n",
              "      <td>10</td>\n",
              "      <td>3</td>\n",
              "      <td>0</td>\n",
              "    </tr>\n",
              "    <tr>\n",
              "      <th>5</th>\n",
              "      <td>14</td>\n",
              "      <td>6</td>\n",
              "      <td>86</td>\n",
              "      <td>9</td>\n",
              "      <td>4</td>\n",
              "      <td>37</td>\n",
              "      <td>30</td>\n",
              "      <td>38</td>\n",
              "      <td>0</td>\n",
              "    </tr>\n",
              "    <tr>\n",
              "      <th>6</th>\n",
              "      <td>5</td>\n",
              "      <td>1</td>\n",
              "      <td>34</td>\n",
              "      <td>6</td>\n",
              "      <td>2</td>\n",
              "      <td>31</td>\n",
              "      <td>21</td>\n",
              "      <td>31</td>\n",
              "      <td>0</td>\n",
              "    </tr>\n",
              "  </tbody>\n",
              "</table>\n",
              "</div>\n",
              "      <button class=\"colab-df-convert\" onclick=\"convertToInteractive('df-d38d8c3e-da41-4762-a9c3-e3157e574482')\"\n",
              "              title=\"Convert this dataframe to an interactive table.\"\n",
              "              style=\"display:none;\">\n",
              "        \n",
              "  <svg xmlns=\"http://www.w3.org/2000/svg\" height=\"24px\"viewBox=\"0 0 24 24\"\n",
              "       width=\"24px\">\n",
              "    <path d=\"M0 0h24v24H0V0z\" fill=\"none\"/>\n",
              "    <path d=\"M18.56 5.44l.94 2.06.94-2.06 2.06-.94-2.06-.94-.94-2.06-.94 2.06-2.06.94zm-11 1L8.5 8.5l.94-2.06 2.06-.94-2.06-.94L8.5 2.5l-.94 2.06-2.06.94zm10 10l.94 2.06.94-2.06 2.06-.94-2.06-.94-.94-2.06-.94 2.06-2.06.94z\"/><path d=\"M17.41 7.96l-1.37-1.37c-.4-.4-.92-.59-1.43-.59-.52 0-1.04.2-1.43.59L10.3 9.45l-7.72 7.72c-.78.78-.78 2.05 0 2.83L4 21.41c.39.39.9.59 1.41.59.51 0 1.02-.2 1.41-.59l7.78-7.78 2.81-2.81c.8-.78.8-2.07 0-2.86zM5.41 20L4 18.59l7.72-7.72 1.47 1.35L5.41 20z\"/>\n",
              "  </svg>\n",
              "      </button>\n",
              "      \n",
              "  <style>\n",
              "    .colab-df-container {\n",
              "      display:flex;\n",
              "      flex-wrap:wrap;\n",
              "      gap: 12px;\n",
              "    }\n",
              "\n",
              "    .colab-df-convert {\n",
              "      background-color: #E8F0FE;\n",
              "      border: none;\n",
              "      border-radius: 50%;\n",
              "      cursor: pointer;\n",
              "      display: none;\n",
              "      fill: #1967D2;\n",
              "      height: 32px;\n",
              "      padding: 0 0 0 0;\n",
              "      width: 32px;\n",
              "    }\n",
              "\n",
              "    .colab-df-convert:hover {\n",
              "      background-color: #E2EBFA;\n",
              "      box-shadow: 0px 1px 2px rgba(60, 64, 67, 0.3), 0px 1px 3px 1px rgba(60, 64, 67, 0.15);\n",
              "      fill: #174EA6;\n",
              "    }\n",
              "\n",
              "    [theme=dark] .colab-df-convert {\n",
              "      background-color: #3B4455;\n",
              "      fill: #D2E3FC;\n",
              "    }\n",
              "\n",
              "    [theme=dark] .colab-df-convert:hover {\n",
              "      background-color: #434B5C;\n",
              "      box-shadow: 0px 1px 3px 1px rgba(0, 0, 0, 0.15);\n",
              "      filter: drop-shadow(0px 1px 2px rgba(0, 0, 0, 0.3));\n",
              "      fill: #FFFFFF;\n",
              "    }\n",
              "  </style>\n",
              "\n",
              "      <script>\n",
              "        const buttonEl =\n",
              "          document.querySelector('#df-d38d8c3e-da41-4762-a9c3-e3157e574482 button.colab-df-convert');\n",
              "        buttonEl.style.display =\n",
              "          google.colab.kernel.accessAllowed ? 'block' : 'none';\n",
              "\n",
              "        async function convertToInteractive(key) {\n",
              "          const element = document.querySelector('#df-d38d8c3e-da41-4762-a9c3-e3157e574482');\n",
              "          const dataTable =\n",
              "            await google.colab.kernel.invokeFunction('convertToInteractive',\n",
              "                                                     [key], {});\n",
              "          if (!dataTable) return;\n",
              "\n",
              "          const docLinkHtml = 'Like what you see? Visit the ' +\n",
              "            '<a target=\"_blank\" href=https://colab.research.google.com/notebooks/data_table.ipynb>data table notebook</a>'\n",
              "            + ' to learn more about interactive tables.';\n",
              "          element.innerHTML = '';\n",
              "          dataTable['output_type'] = 'display_data';\n",
              "          await google.colab.output.renderOutput(dataTable, element);\n",
              "          const docLink = document.createElement('div');\n",
              "          docLink.innerHTML = docLinkHtml;\n",
              "          element.appendChild(docLink);\n",
              "        }\n",
              "      </script>\n",
              "    </div>\n",
              "  </div>\n",
              "  "
            ]
          },
          "metadata": {},
          "execution_count": 21
        }
      ]
    },
    {
      "cell_type": "code",
      "source": [
        "x = data.drop('Class', axis=1)\n",
        "y = data['Class']"
      ],
      "metadata": {
        "id": "e3Lg5qauDjar"
      },
      "execution_count": 22,
      "outputs": []
    },
    {
      "cell_type": "code",
      "source": [
        "# cek korelasi variabel\n",
        "plt.figure(figsize=(10, 6))\n",
        "sns.heatmap(data1.corr(), annot=True)"
      ],
      "metadata": {
        "colab": {
          "base_uri": "https://localhost:8080/",
          "height": 528
        },
        "id": "swRY81Qu9eL_",
        "outputId": "5fd7cfa2-fbcd-4473-d9d3-2d65d45cb81b"
      },
      "execution_count": 23,
      "outputs": [
        {
          "output_type": "execute_result",
          "data": {
            "text/plain": [
              "<matplotlib.axes._subplots.AxesSubplot at 0x7f53bf53ced0>"
            ]
          },
          "metadata": {},
          "execution_count": 23
        },
        {
          "output_type": "display_data",
          "data": {
            "text/plain": [
              "<Figure size 720x432 with 2 Axes>"
            ],
            "image/png": "[encoded data removed]"
          },
          "metadata": {
            "needs_background": "light"
          }
        }
      ]
    },
    {
      "cell_type": "code",
      "source": [
        "plt.figure(figsize=(10,6))\n",
        "sns.heatmap(x.corr(), annot=True)"
      ],
      "metadata": {
        "colab": {
          "base_uri": "https://localhost:8080/",
          "height": 528
        },
        "id": "shNJfpvE-oKv",
        "outputId": "db402c52-4c6d-4c8c-b49c-15c3f641ad2a"
      },
      "execution_count": null,
      "outputs": [
        {
          "output_type": "execute_result",
          "data": {
            "text/plain": [
              "<matplotlib.axes._subplots.AxesSubplot at 0x7fd77544b050>"
            ]
          },
          "metadata": {},
          "execution_count": 30
        },
        {
          "output_type": "display_data",
          "data": {
            "text/plain": [
              "<Figure size 720x432 with 2 Axes>"
            ],
            "image/png": "[encoded data removed]"
          },
          "metadata": {
            "needs_background": "light"
          }
        }
      ]
    },
    {
      "cell_type": "code",
      "source": [
        "from sklearn.model_selection import train_test_split\n",
        "x_train, x_test, y_train, y_test = train_test_split(x,y, train_size=0.9, random_state=123)"
      ],
      "metadata": {
        "id": "prM3WP2x-8JA"
      },
      "execution_count": 24,
      "outputs": []
    },
    {
      "cell_type": "markdown",
      "source": [
        "# Model Development"
      ],
      "metadata": {
        "id": "ARwIFU8OZnAL"
      }
    },
    {
      "cell_type": "code",
      "source": [
        "from sklearn.linear_model import LogisticRegression\n",
        "model = LogisticRegression()\n",
        "result = model.fit(x_train, y_train)\n",
        "from sklearn import metrics\n",
        "prediction_test = model.predict(x_test)\n",
        "# Print the prediction accuracy\n",
        "print (metrics.accuracy_score(y_test, prediction_test)) "
      ],
      "metadata": {
        "colab": {
          "base_uri": "https://localhost:8080/"
        },
        "id": "QhSQVSz7ClX8",
        "outputId": "02b99be6-a95a-4b0f-9d44-b9474adc1019"
      },
      "execution_count": 25,
      "outputs": [
        {
          "output_type": "stream",
          "name": "stdout",
          "text": [
            "0.6046511627906976\n"
          ]
        }
      ]
    },
    {
      "cell_type": "code",
      "source": [
        "from sklearn.svm import SVC #MODEL SVM\n",
        "model.svm = SVC(kernel='linear') \n",
        "model.svm.fit(x_train,y_train)\n",
        "preds = model.svm.predict(x_test)\n",
        "metrics.accuracy_score(y_test, preds)"
      ],
      "metadata": {
        "colab": {
          "base_uri": "https://localhost:8080/"
        },
        "id": "487gbE_fCyoY",
        "outputId": "e2544ff4-5509-4ab8-c58d-91ccf7929bcb"
      },
      "execution_count": 26,
      "outputs": [
        {
          "output_type": "execute_result",
          "data": {
            "text/plain": [
              "0.6511627906976745"
            ]
          },
          "metadata": {},
          "execution_count": 26
        }
      ]
    },
    {
      "cell_type": "code",
      "source": [
        "from sklearn.neighbors import KNeighborsClassifier\n",
        "knn = KNeighborsClassifier(5)\n",
        "knn.fit(x_train,y_train)\n",
        "KNeighborsClassifier(n_neighbors=4)\n",
        "x_train_predict=knn.predict(x_train)\n",
        "x_test_predict=knn.predict(x_test)\n",
        "KNeighborsClassifierScore = knn.score(x_train,y_train)\n",
        "print(\"Accuracy obtained by K Neighbors Classifier model:\",KNeighborsClassifierScore*100)\n",
        "KNeighborsClassifierScore = knn.score(x_test,y_test)\n",
        "print(\"Accuracy obtained by testing K Neighbors Classifier model:\",KNeighborsClassifierScore*100)"
      ],
      "metadata": {
        "colab": {
          "base_uri": "https://localhost:8080/"
        },
        "id": "oir0nxiMmDjW",
        "outputId": "10e96dc5-c058-4242-8eaf-0ecc25608922"
      },
      "execution_count": 27,
      "outputs": [
        {
          "output_type": "stream",
          "name": "stdout",
          "text": [
            "Accuracy obtained by K Neighbors Classifier model: 76.36363636363637\n",
            "Accuracy obtained by testing K Neighbors Classifier model: 46.51162790697674\n"
          ]
        }
      ]
    },
    {
      "cell_type": "code",
      "source": [
        "from sklearn.tree import DecisionTreeClassifier\n",
        "dtc = DecisionTreeClassifier()\n",
        "dtc.fit(x_train,y_train)\n",
        "DecisionTreeClassifier()\n",
        "x_train_predict=dtc.predict(x_train)\n",
        "x_test_predict=dtc.predict(x_test)\n",
        "DecisionTreeClassifierScore = dtc.score(x_train,y_train)\n",
        "print(\"Accuracy obtained by training Decision Tree Classifiermodel:\",DecisionTreeClassifierScore*100)\n",
        "DecisionTreeClassifierScore = dtc.score(x_test,y_test)\n",
        "print(\"Accuracy obtained by testing Decision Tree Classifier model:\",DecisionTreeClassifierScore*100)"
      ],
      "metadata": {
        "colab": {
          "base_uri": "https://localhost:8080/"
        },
        "id": "j1LcUkL-mybk",
        "outputId": "d6d13993-13e5-4aa0-b435-40fa2c0ef259"
      },
      "execution_count": 28,
      "outputs": [
        {
          "output_type": "stream",
          "name": "stdout",
          "text": [
            "Accuracy obtained by training Decision Tree Classifiermodel: 100.0\n",
            "Accuracy obtained by testing Decision Tree Classifier model: 46.51162790697674\n"
          ]
        }
      ]
    },
    {
      "cell_type": "code",
      "source": [
        "from sklearn.svm import SVC #MODEL SVM\n",
        "model.svm = SVC(kernel='linear') \n",
        "model.svm.fit(x_train,y_train)\n",
        "preds = model.svm.predict(x_test)\n",
        "SVMScore = metrics.accuracy_score(y_test, preds)\n",
        "print(\"Accuracy obtained by training SVM model:\",SVMScore*100)"
      ],
      "metadata": {
        "colab": {
          "base_uri": "https://localhost:8080/"
        },
        "id": "5YA-RFxHjNE_",
        "outputId": "45e4ee52-5c6f-49ce-e14e-1c414089cbbb"
      },
      "execution_count": 30,
      "outputs": [
        {
          "output_type": "stream",
          "name": "stdout",
          "text": [
            "Accuracy obtained by training SVM model: 65.11627906976744\n"
          ]
        }
      ]
    },
    {
      "cell_type": "code",
      "source": [
        "from sklearn.linear_model import LogisticRegression\n",
        "model = LogisticRegression()\n",
        "result = model.fit(x_train, y_train)\n",
        "from sklearn import metrics\n",
        "prediction_test = model.predict(x_train)\n",
        "# Print the prediction accuracy\n",
        "LRScore = metrics.accuracy_score(y_train, prediction_test)\n",
        "print(\"Accuracy obtained by training Logisctic Regression model:\", LRScore*100)"
      ],
      "metadata": {
        "colab": {
          "base_uri": "https://localhost:8080/"
        },
        "id": "ME_xo6FDkgdU",
        "outputId": "2e99f9d2-c929-438d-817a-de91b2315ec2"
      },
      "execution_count": 31,
      "outputs": [
        {
          "output_type": "stream",
          "name": "stdout",
          "text": [
            "Accuracy obtained by training Logisctic Regression model: 64.67532467532467\n"
          ]
        }
      ]
    }
  ]
}